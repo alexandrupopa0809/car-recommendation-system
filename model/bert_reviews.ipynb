{
 "cells": [
  {
   "cell_type": "code",
   "execution_count": 2,
   "metadata": {},
   "outputs": [],
   "source": [
    "from transformers import BertTokenizer, BertModel\n",
    "import torch\n",
    "from sklearn.metrics.pairwise import cosine_similarity\n",
    "import pandas as pd"
   ]
  },
  {
   "cell_type": "code",
   "execution_count": 3,
   "metadata": {},
   "outputs": [
    {
     "data": {
      "text/html": [
       "<div>\n",
       "<style scoped>\n",
       "    .dataframe tbody tr th:only-of-type {\n",
       "        vertical-align: middle;\n",
       "    }\n",
       "\n",
       "    .dataframe tbody tr th {\n",
       "        vertical-align: top;\n",
       "    }\n",
       "\n",
       "    .dataframe thead th {\n",
       "        text-align: right;\n",
       "    }\n",
       "</style>\n",
       "<table border=\"1\" class=\"dataframe\">\n",
       "  <thead>\n",
       "    <tr style=\"text-align: right;\">\n",
       "      <th></th>\n",
       "      <th>Vehicle_Title</th>\n",
       "      <th>Review_Title</th>\n",
       "      <th>Review</th>\n",
       "      <th>Rating</th>\n",
       "    </tr>\n",
       "  </thead>\n",
       "  <tbody>\n",
       "    <tr>\n",
       "      <th>0</th>\n",
       "      <td>2007 Volkswagen New Beetle Convertible 2.5 2dr...</td>\n",
       "      <td>New Beetle- Holds up well &amp; Fun to Drive, but ...</td>\n",
       "      <td>beetle convertible 45 year andhave overall hap...</td>\n",
       "      <td>4.5</td>\n",
       "    </tr>\n",
       "    <tr>\n",
       "      <th>1</th>\n",
       "      <td>2007 Volkswagen New Beetle Convertible 2.5 PZE...</td>\n",
       "      <td>Quality Review</td>\n",
       "      <td>bought car new 2007 generally satisfied mechan...</td>\n",
       "      <td>4.5</td>\n",
       "    </tr>\n",
       "  </tbody>\n",
       "</table>\n",
       "</div>"
      ],
      "text/plain": [
       "                                       Vehicle_Title  \\\n",
       "0  2007 Volkswagen New Beetle Convertible 2.5 2dr...   \n",
       "1  2007 Volkswagen New Beetle Convertible 2.5 PZE...   \n",
       "\n",
       "                                        Review_Title  \\\n",
       "0  New Beetle- Holds up well & Fun to Drive, but ...   \n",
       "1                                     Quality Review   \n",
       "\n",
       "                                              Review  Rating  \n",
       "0  beetle convertible 45 year andhave overall hap...     4.5  \n",
       "1  bought car new 2007 generally satisfied mechan...     4.5  "
      ]
     },
     "execution_count": 3,
     "metadata": {},
     "output_type": "execute_result"
    }
   ],
   "source": [
    "path = \"../data/final_car_reviews.csv\"\n",
    "cars = pd.read_csv(path)\n",
    "cars.dropna(subset=[\"Review\"], inplace=True)\n",
    "cars.head(2)"
   ]
  },
  {
   "cell_type": "code",
   "execution_count": 5,
   "metadata": {},
   "outputs": [],
   "source": [
    "reviews_list = cars[\"Review_Title\"].tolist()"
   ]
  },
  {
   "cell_type": "code",
   "execution_count": 6,
   "metadata": {},
   "outputs": [
    {
     "data": {
      "application/vnd.jupyter.widget-view+json": {
       "model_id": "2c9a9a4a3f274500ac7273b7ad4567ad",
       "version_major": 2,
       "version_minor": 0
      },
      "text/plain": [
       "Downloading vocab.txt:   0%|          | 0.00/232k [00:00<?, ?B/s]"
      ]
     },
     "metadata": {},
     "output_type": "display_data"
    },
    {
     "data": {
      "application/vnd.jupyter.widget-view+json": {
       "model_id": "0510aec03b614893a9d73e8996e3fa4a",
       "version_major": 2,
       "version_minor": 0
      },
      "text/plain": [
       "Downloading tokenizer_config.json:   0%|          | 0.00/28.0 [00:00<?, ?B/s]"
      ]
     },
     "metadata": {},
     "output_type": "display_data"
    },
    {
     "data": {
      "application/vnd.jupyter.widget-view+json": {
       "model_id": "bce7538696904437a6c4e9e7d22001c6",
       "version_major": 2,
       "version_minor": 0
      },
      "text/plain": [
       "Downloading config.json:   0%|          | 0.00/570 [00:00<?, ?B/s]"
      ]
     },
     "metadata": {},
     "output_type": "display_data"
    },
    {
     "data": {
      "application/vnd.jupyter.widget-view+json": {
       "model_id": "90e25b8cfebc4dc881ba20e325289588",
       "version_major": 2,
       "version_minor": 0
      },
      "text/plain": [
       "Downloading pytorch_model.bin:   0%|          | 0.00/440M [00:00<?, ?B/s]"
      ]
     },
     "metadata": {},
     "output_type": "display_data"
    },
    {
     "name": "stderr",
     "output_type": "stream",
     "text": [
      "Some weights of the model checkpoint at bert-base-uncased were not used when initializing BertModel: ['cls.predictions.transform.LayerNorm.bias', 'cls.predictions.transform.LayerNorm.weight', 'cls.seq_relationship.weight', 'cls.predictions.transform.dense.weight', 'cls.seq_relationship.bias', 'cls.predictions.transform.dense.bias', 'cls.predictions.decoder.weight', 'cls.predictions.bias']\n",
      "- This IS expected if you are initializing BertModel from the checkpoint of a model trained on another task or with another architecture (e.g. initializing a BertForSequenceClassification model from a BertForPreTraining model).\n",
      "- This IS NOT expected if you are initializing BertModel from the checkpoint of a model that you expect to be exactly identical (initializing a BertForSequenceClassification model from a BertForSequenceClassification model).\n"
     ]
    }
   ],
   "source": [
    "model_name = \"bert-base-uncased\"\n",
    "tokenizer = BertTokenizer.from_pretrained(model_name)\n",
    "model = BertModel.from_pretrained(model_name)"
   ]
  },
  {
   "cell_type": "code",
   "execution_count": 7,
   "metadata": {},
   "outputs": [],
   "source": [
    "def get_recommendations_with_bert(input_text, car_reviews):\n",
    "    query_tokens = tokenizer.encode(input_text, add_special_tokens=True, return_tensors=\"pt\")\n",
    "    car_reviews_tokens = tokenizer.batch_encode_plus(car_reviews, add_special_tokens=True, return_tensors=\"pt\", padding=True)[\"input_ids\"]\n",
    "\n",
    "    with torch.no_grad():\n",
    "        query_embedding = model(query_tokens)[0][:, 0, :].numpy()\n",
    "        car_embeddings = model(car_reviews_tokens)[0][:, 0, :].numpy()\n",
    "\n",
    "    similarity_scores = cosine_similarity(query_embedding, car_embeddings)\n",
    "\n",
    "    ranked_indices = similarity_scores.argsort()[0][::-1]\n",
    "    top_recommendations = [car_reviews[i] for i in ranked_indices]\n",
    "\n",
    "    print(\"Top recommendations based on input search:\")\n",
    "    for idx, recommendation in enumerate(top_recommendations, start=1):\n",
    "        print(f\"{idx}. {recommendation}\")"
   ]
  },
  {
   "cell_type": "code",
   "execution_count": null,
   "metadata": {},
   "outputs": [],
   "source": [
    "input_text = \"I want a big family car\"\n",
    "get_recommendations_with_bert(input_text, reviews_list)"
   ]
  },
  {
   "cell_type": "code",
   "execution_count": null,
   "metadata": {},
   "outputs": [],
   "source": []
  }
 ],
 "metadata": {
  "kernelspec": {
   "display_name": "base",
   "language": "python",
   "name": "python3"
  },
  "language_info": {
   "codemirror_mode": {
    "name": "ipython",
    "version": 3
   },
   "file_extension": ".py",
   "mimetype": "text/x-python",
   "name": "python",
   "nbconvert_exporter": "python",
   "pygments_lexer": "ipython3",
   "version": "3.10.9"
  }
 },
 "nbformat": 4,
 "nbformat_minor": 2
}
