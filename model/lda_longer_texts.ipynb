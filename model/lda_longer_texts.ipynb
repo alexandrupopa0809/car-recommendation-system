{
 "cells": [
  {
   "cell_type": "markdown",
   "metadata": {},
   "source": [
    "* This notebook contains another approach. For each car in the dataset, we concatenate and aggregate all the reviews associated with that car into a single text/document. This aggregated text will represent the collective information about the specific car."
   ]
  },
  {
   "cell_type": "code",
   "execution_count": 1,
   "metadata": {},
   "outputs": [],
   "source": [
    "import pandas as pd\n",
    "import matplotlib.pyplot as plt\n",
    "import seaborn as sns\n",
    "from wordcloud import WordCloud\n",
    "from sklearn.feature_extraction.text import TfidfVectorizer\n",
    "from sklearn.decomposition import LatentDirichletAllocation\n",
    "from gensim.models.coherencemodel import CoherenceModel\n",
    "import math\n",
    "from gensim import corpora, models\n",
    "import pprint\n",
    "import re\n",
    "import contractions\n",
    "import nltk\n",
    "from nltk.corpus import stopwords\n",
    "from nltk.stem import WordNetLemmatizer\n",
    "from collections import Counter\n",
    "from collections import defaultdict\n",
    "from sklearn.metrics.pairwise import cosine_similarity"
   ]
  },
  {
   "cell_type": "code",
   "execution_count": 4,
   "metadata": {},
   "outputs": [
    {
     "data": {
      "text/plain": [
       "0         2007 Volkswagen New Beetle Convertible 2.5 2dr...\n",
       "1         2007 Volkswagen New Beetle Convertible 2.5 PZE...\n",
       "2         2007 Volkswagen New Beetle Convertible Triple ...\n",
       "3         2007 Volkswagen New Beetle Convertible 2.5 2dr...\n",
       "4         2007 Volkswagen New Beetle Convertible 2.5 2dr...\n",
       "                                ...                        \n",
       "167289    2008 Chevrolet Equinox SUV LT 4dr SUV AWD (3.4...\n",
       "167290    2008 Chevrolet Equinox SUV Sport 4dr SUV AWD (...\n",
       "167291    2008 Chevrolet Equinox SUV LTZ 4dr SUV (3.4L 6...\n",
       "167292    2008 Chevrolet Equinox SUV LT 4dr SUV AWD (3.4...\n",
       "167293    2008 Chevrolet Equinox SUV LS 4dr SUV AWD (3.4...\n",
       "Name: Vehicle_Title, Length: 166381, dtype: object"
      ]
     },
     "execution_count": 4,
     "metadata": {},
     "output_type": "execute_result"
    }
   ],
   "source": [
    "path = \"../data/final_car_reviews.csv\"\n",
    "cars = pd.read_csv(path)\n",
    "cars.dropna(subset=[\"Review\"], inplace=True)\n",
    "cars[\"Vehicle_Title\"]"
   ]
  },
  {
   "cell_type": "code",
   "execution_count": 25,
   "metadata": {},
   "outputs": [
    {
     "data": {
      "text/plain": [
       "'2006 Volkswagen New Beetle Hatchback 2.5 2dr Hatchback (2.5L 5cyl 5M)'"
      ]
     },
     "execution_count": 25,
     "metadata": {},
     "output_type": "execute_result"
    }
   ],
   "source": [
    "cars[\"Vehicle_Title\"][700]"
   ]
  },
  {
   "cell_type": "code",
   "execution_count": null,
   "metadata": {},
   "outputs": [],
   "source": []
  }
 ],
 "metadata": {
  "kernelspec": {
   "display_name": "base",
   "language": "python",
   "name": "python3"
  },
  "language_info": {
   "codemirror_mode": {
    "name": "ipython",
    "version": 3
   },
   "file_extension": ".py",
   "mimetype": "text/x-python",
   "name": "python",
   "nbconvert_exporter": "python",
   "pygments_lexer": "ipython3",
   "version": "3.10.9"
  }
 },
 "nbformat": 4,
 "nbformat_minor": 2
}
