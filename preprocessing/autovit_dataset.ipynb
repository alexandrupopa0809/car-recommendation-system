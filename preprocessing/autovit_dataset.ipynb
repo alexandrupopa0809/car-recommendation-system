{
 "cells": [
  {
   "cell_type": "code",
   "execution_count": 1,
   "metadata": {},
   "outputs": [],
   "source": [
    "import pandas as pd\n",
    "import matplotlib.pyplot as plt\n",
    "import os"
   ]
  },
  {
   "cell_type": "code",
   "execution_count": 3,
   "metadata": {},
   "outputs": [
    {
     "data": {
      "text/plain": [
       "['car_records_900.csv',\n",
       " 'car_records_1000.csv',\n",
       " 'car_records_800.csv',\n",
       " 'car_records_400.csv',\n",
       " 'car_records_600.csv',\n",
       " 'car_records_200.csv',\n",
       " 'car_records_700.csv',\n",
       " 'car_records_500.csv',\n",
       " 'car_records_100.csv',\n",
       " 'car_records_300.csv']"
      ]
     },
     "execution_count": 3,
     "metadata": {},
     "output_type": "execute_result"
    }
   ],
   "source": [
    "files_path = \"../data/\"\n",
    "file_list = os.listdir(files_path)\n",
    "file_list"
   ]
  },
  {
   "cell_type": "markdown",
   "metadata": {},
   "source": [
    "Concatenate csv files"
   ]
  },
  {
   "cell_type": "code",
   "execution_count": 5,
   "metadata": {},
   "outputs": [
    {
     "ename": "SyntaxError",
     "evalue": "invalid syntax (2035958694.py, line 1)",
     "output_type": "error",
     "traceback": [
      "\u001b[0;36m  Cell \u001b[0;32mIn[5], line 1\u001b[0;36m\u001b[0m\n\u001b[0;31m    import car-recommendation-system.utils\u001b[0m\n\u001b[0m              ^\u001b[0m\n\u001b[0;31mSyntaxError\u001b[0m\u001b[0;31m:\u001b[0m invalid syntax\n"
     ]
    }
   ],
   "source": [
    "df_concat = pd.DataFrame()\n",
    "dataframes_from_csv = []\n",
    "\n",
    "for csv_filename in file_list:\n",
    "    df_temp = pd.read_csv(files_path + csv_filename)\n",
    "    dataframes_from_csv.append(df_temp)\n",
    "\n",
    "df_concat = pd.concat(dataframes_from_csv, ignore_index=True)\n",
    "df_concat.shape"
   ]
  },
  {
   "cell_type": "markdown",
   "metadata": {},
   "source": [
    "Find and remove duplicate rows"
   ]
  },
  {
   "cell_type": "code",
   "execution_count": 11,
   "metadata": {},
   "outputs": [
    {
     "data": {
      "text/plain": [
       "1"
      ]
     },
     "execution_count": 11,
     "metadata": {},
     "output_type": "execute_result"
    }
   ],
   "source": [
    "duplicate_rows = df_concat[df_concat.duplicated()]\n",
    "len(duplicate_rows)\n"
   ]
  },
  {
   "cell_type": "code",
   "execution_count": 12,
   "metadata": {},
   "outputs": [
    {
     "data": {
      "text/plain": [
       "(15417, 17)"
      ]
     },
     "execution_count": 12,
     "metadata": {},
     "output_type": "execute_result"
    }
   ],
   "source": [
    "df_concat.drop_duplicates(inplace=True)\n",
    "df_concat.shape"
   ]
  },
  {
   "cell_type": "code",
   "execution_count": 17,
   "metadata": {},
   "outputs": [
    {
     "data": {
      "text/html": [
       "<div>\n",
       "<style scoped>\n",
       "    .dataframe tbody tr th:only-of-type {\n",
       "        vertical-align: middle;\n",
       "    }\n",
       "\n",
       "    .dataframe tbody tr th {\n",
       "        vertical-align: top;\n",
       "    }\n",
       "\n",
       "    .dataframe thead th {\n",
       "        text-align: right;\n",
       "    }\n",
       "</style>\n",
       "<table border=\"1\" class=\"dataframe\">\n",
       "  <thead>\n",
       "    <tr style=\"text-align: right;\">\n",
       "      <th></th>\n",
       "      <th>title</th>\n",
       "      <th>price</th>\n",
       "      <th>make</th>\n",
       "      <th>model</th>\n",
       "      <th>year</th>\n",
       "      <th>mileage</th>\n",
       "      <th>fuel_type</th>\n",
       "      <th>engine_power</th>\n",
       "      <th>engine_capacity</th>\n",
       "      <th>transmission</th>\n",
       "      <th>pollution_standard</th>\n",
       "      <th>gearbox</th>\n",
       "      <th>body_type</th>\n",
       "      <th>country_origin</th>\n",
       "      <th>original_owner</th>\n",
       "      <th>no_accident</th>\n",
       "    </tr>\n",
       "  </thead>\n",
       "  <tbody>\n",
       "    <tr>\n",
       "      <th>0</th>\n",
       "      <td>Ford Kuga 2.0 TDCi 4x4 Aut. Individual</td>\n",
       "      <td>10500.0</td>\n",
       "      <td>Ford</td>\n",
       "      <td>Kuga</td>\n",
       "      <td>2015</td>\n",
       "      <td>214 547 km</td>\n",
       "      <td>Diesel</td>\n",
       "      <td>140 CP</td>\n",
       "      <td>1 997 cm3</td>\n",
       "      <td>4x4 (manual)</td>\n",
       "      <td>NaN</td>\n",
       "      <td>Automata</td>\n",
       "      <td>SUV</td>\n",
       "      <td>NaN</td>\n",
       "      <td>NaN</td>\n",
       "      <td>NaN</td>\n",
       "    </tr>\n",
       "    <tr>\n",
       "      <th>1</th>\n",
       "      <td>Audi Q3 2.0 40 TFSI S tronic quattro S Line</td>\n",
       "      <td>28600.0</td>\n",
       "      <td>Audi</td>\n",
       "      <td>Q3</td>\n",
       "      <td>2021</td>\n",
       "      <td>36 000 km</td>\n",
       "      <td>Benzina</td>\n",
       "      <td>190 CP</td>\n",
       "      <td>1 984 cm3</td>\n",
       "      <td>4x4 (automat)</td>\n",
       "      <td>Euro 6</td>\n",
       "      <td>Automata</td>\n",
       "      <td>SUV</td>\n",
       "      <td>NaN</td>\n",
       "      <td>NaN</td>\n",
       "      <td>NaN</td>\n",
       "    </tr>\n",
       "  </tbody>\n",
       "</table>\n",
       "</div>"
      ],
      "text/plain": [
       "                                         title    price  make model  year  \\\n",
       "0       Ford Kuga 2.0 TDCi 4x4 Aut. Individual  10500.0  Ford  Kuga  2015   \n",
       "1  Audi Q3 2.0 40 TFSI S tronic quattro S Line  28600.0  Audi    Q3  2021   \n",
       "\n",
       "      mileage fuel_type engine_power engine_capacity   transmission  \\\n",
       "0  214 547 km    Diesel       140 CP       1 997 cm3   4x4 (manual)   \n",
       "1   36 000 km   Benzina       190 CP       1 984 cm3  4x4 (automat)   \n",
       "\n",
       "  pollution_standard   gearbox body_type country_origin original_owner  \\\n",
       "0                NaN  Automata       SUV            NaN            NaN   \n",
       "1             Euro 6  Automata       SUV            NaN            NaN   \n",
       "\n",
       "  no_accident  \n",
       "0         NaN  \n",
       "1         NaN  "
      ]
     },
     "execution_count": 17,
     "metadata": {},
     "output_type": "execute_result"
    }
   ],
   "source": [
    "df_concat.drop(\"Unnamed: 0\", axis=1, inplace=True)\n",
    "df_concat.head(2)"
   ]
  },
  {
   "cell_type": "code",
   "execution_count": 18,
   "metadata": {},
   "outputs": [
    {
     "name": "stdout",
     "output_type": "stream",
     "text": [
      "<class 'pandas.core.frame.DataFrame'>\n",
      "Index: 15417 entries, 0 to 15417\n",
      "Data columns (total 16 columns):\n",
      " #   Column              Non-Null Count  Dtype  \n",
      "---  ------              --------------  -----  \n",
      " 0   title               15417 non-null  object \n",
      " 1   price               15417 non-null  float64\n",
      " 2   make                15417 non-null  object \n",
      " 3   model               15417 non-null  object \n",
      " 4   year                15417 non-null  int64  \n",
      " 5   mileage             15363 non-null  object \n",
      " 6   fuel_type           15417 non-null  object \n",
      " 7   engine_power        15386 non-null  object \n",
      " 8   engine_capacity     14992 non-null  object \n",
      " 9   transmission        12689 non-null  object \n",
      " 10  pollution_standard  9797 non-null   object \n",
      " 11  gearbox             15417 non-null  object \n",
      " 12  body_type           15417 non-null  object \n",
      " 13  country_origin      7905 non-null   object \n",
      " 14  original_owner      5327 non-null   object \n",
      " 15  no_accident         8550 non-null   object \n",
      "dtypes: float64(1), int64(1), object(14)\n",
      "memory usage: 2.0+ MB\n"
     ]
    }
   ],
   "source": [
    "df_concat.info()"
   ]
  },
  {
   "cell_type": "code",
   "execution_count": 19,
   "metadata": {},
   "outputs": [
    {
     "data": {
      "text/plain": [
       "title                     0\n",
       "price                     0\n",
       "make                      0\n",
       "model                     0\n",
       "year                      0\n",
       "mileage                  54\n",
       "fuel_type                 0\n",
       "engine_power             31\n",
       "engine_capacity         425\n",
       "transmission           2728\n",
       "pollution_standard     5620\n",
       "gearbox                   0\n",
       "body_type                 0\n",
       "country_origin         7512\n",
       "original_owner        10090\n",
       "no_accident            6867\n",
       "dtype: int64"
      ]
     },
     "execution_count": 19,
     "metadata": {},
     "output_type": "execute_result"
    }
   ],
   "source": [
    "df_concat.isna().sum()"
   ]
  },
  {
   "cell_type": "markdown",
   "metadata": {},
   "source": [
    "Drop rows that contain null values for the following columns: mileage, engine_power, engine_capacity."
   ]
  },
  {
   "cell_type": "code",
   "execution_count": 22,
   "metadata": {},
   "outputs": [],
   "source": [
    "df_concat.dropna(subset=[\"mileage\", \"engine_power\", \"engine_capacity\"], inplace=True)"
   ]
  },
  {
   "cell_type": "markdown",
   "metadata": {},
   "source": [
    "What is the count of cars for each brand?"
   ]
  },
  {
   "cell_type": "code",
   "execution_count": 35,
   "metadata": {},
   "outputs": [
    {
     "data": {
      "text/plain": [
       "make\n",
       "BMW              2108\n",
       "Mercedes-Benz    2101\n",
       "Volkswagen       1695\n",
       "Audi             1364\n",
       "Skoda             847\n",
       "                 ... \n",
       "Genesis             1\n",
       "McLaren             1\n",
       "Rover               1\n",
       "Chrysler            1\n",
       "Chatenet            1\n",
       "Name: count, Length: 62, dtype: int64"
      ]
     },
     "execution_count": 35,
     "metadata": {},
     "output_type": "execute_result"
    }
   ],
   "source": [
    "make_counts = df_concat[\"make\"].value_counts()\n",
    "make_counts"
   ]
  },
  {
   "cell_type": "code",
   "execution_count": 39,
   "metadata": {},
   "outputs": [
    {
     "data": {
      "image/png": "[encoded data removed]",
      "text/plain": [
       "<Figure size 1200x400 with 1 Axes>"
      ]
     },
     "metadata": {},
     "output_type": "display_data"
    }
   ],
   "source": [
    "# Create a bar plot\n",
    "plt.figure(figsize=(12, 4))\n",
    "make_counts.head(30).plot(kind=\"bar\", color=\"red\")\n",
    "plt.title(\"Number of Rows for Each Car Brand\")\n",
    "plt.xlabel(\"Brand\")\n",
    "plt.ylabel(\"Count\")\n",
    "plt.xticks(rotation=45)\n",
    "plt.grid(axis=\"y\")\n",
    "\n",
    "plt.tight_layout()\n",
    "plt.show()"
   ]
  },
  {
   "cell_type": "markdown",
   "metadata": {},
   "source": [
    "Keep only the car brands that have more than 20 rows"
   ]
  },
  {
   "cell_type": "code",
   "execution_count": 38,
   "metadata": {},
   "outputs": [
    {
     "data": {
      "text/plain": [
       "32"
      ]
     },
     "execution_count": 38,
     "metadata": {},
     "output_type": "execute_result"
    }
   ],
   "source": [
    "brands_to_keep = make_counts[make_counts >= 20].index.tolist()\n",
    "len(brands_to_keep)"
   ]
  },
  {
   "cell_type": "code",
   "execution_count": 40,
   "metadata": {},
   "outputs": [
    {
     "data": {
      "text/plain": [
       "(14775, 16)"
      ]
     },
     "execution_count": 40,
     "metadata": {},
     "output_type": "execute_result"
    }
   ],
   "source": [
    "df_filtered = df_concat[df_concat[\"make\"].isin(brands_to_keep)]\n",
    "df_filtered.shape"
   ]
  },
  {
   "cell_type": "code",
   "execution_count": 43,
   "metadata": {},
   "outputs": [],
   "source": [
    "df_filtered.to_csv(files_path + \"autovit_data.csv\")"
   ]
  }
 ],
 "metadata": {
  "kernelspec": {
   "display_name": "Python 3",
   "language": "python",
   "name": "python3"
  },
  "language_info": {
   "codemirror_mode": {
    "name": "ipython",
    "version": 3
   },
   "file_extension": ".py",
   "mimetype": "text/x-python",
   "name": "python",
   "nbconvert_exporter": "python",
   "pygments_lexer": "ipython3",
   "version": "3.9.6"
  }
 },
 "nbformat": 4,
 "nbformat_minor": 2
}
