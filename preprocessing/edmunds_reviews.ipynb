{
 "cells": [
  {
   "cell_type": "code",
   "execution_count": 13,
   "metadata": {},
   "outputs": [],
   "source": [
    "import pandas as pd\n",
    "import matplotlib.pyplot as plt\n",
    "import os\n",
    "import re"
   ]
  },
  {
   "cell_type": "markdown",
   "metadata": {},
   "source": [
    "## Get the reviews from all the existing car brands (handle csv files)"
   ]
  },
  {
   "cell_type": "markdown",
   "metadata": {},
   "source": [
    "We should keep only the files (from edmunds.com) corresponding to the unique car brands from the autovit dataset."
   ]
  },
  {
   "cell_type": "code",
   "execution_count": 6,
   "metadata": {},
   "outputs": [
    {
     "name": "stdout",
     "output_type": "stream",
     "text": [
      "['ford', 'audi', 'toyota', 'skoda', 'bmw', 'chevrolet', 'dacia', 'mitsubishi', 'jaguar', 'mercedesbenz', 'kia', 'volkswagen', 'seat', 'honda', 'citroën', 'hyundai', 'suzuki', 'opel', 'renault', 'volvo', 'mini', 'porsche', 'peugeot', 'nissan', 'mazda', 'landrover', 'fiat', 'alfaromeo', 'jeep', 'lamborghini', 'bentley', 'lexus']\n",
      "32\n"
     ]
    }
   ],
   "source": [
    "# get unique brands from the autovit dataset\n",
    "df = pd.read_csv(\"../data/autovit_data.csv\")\n",
    "unique_brands = [\n",
    "    brand.lower().replace(\"-\", \"\").replace(\" \", \"\")\n",
    "    for brand in df[\"make\"].unique()\n",
    "]\n",
    "\n",
    "print(unique_brands)\n",
    "print(len(unique_brands))"
   ]
  },
  {
   "cell_type": "code",
   "execution_count": null,
   "metadata": {},
   "outputs": [],
   "source": [
    "files_path = \"../data/archive/\"\n",
    "brands_dict = {}\n",
    "pattern = r'_(.*?)\\.csv'\n",
    "regex = re.compile(pattern)\n",
    "\n",
    "for csv_file in os.listdir(files_path):\n",
    "    brand = csv_file.rsplit('_', 1)[-1].split('.')[0].lower()\n",
    "    brand = brand.replace(\"-\", \"\").replace(\" \", \"\")\n",
    "    brands_dict[brand] = csv_file \n",
    "\n",
    "print(len(brands_dict))\n",
    "print(brands_dict)"
   ]
  },
  {
   "cell_type": "markdown",
   "metadata": {},
   "source": [
    "In total, there are 50 car brands, and in the end, there should be 32, once correlated with the brands from the Autovit dataset."
   ]
  },
  {
   "cell_type": "code",
   "execution_count": 43,
   "metadata": {},
   "outputs": [
    {
     "data": {
      "text/plain": [
       "25"
      ]
     },
     "execution_count": 43,
     "metadata": {},
     "output_type": "execute_result"
    }
   ],
   "source": [
    "# get file names\n",
    "filenames = [\n",
    "    filename\n",
    "    for brand, filename in brands_dict.items()\n",
    "    if brand in unique_brands\n",
    "]\n",
    "\n",
    "len(filenames)"
   ]
  },
  {
   "cell_type": "markdown",
   "metadata": {},
   "source": [
    "It seems that in the end there are 25 car brands. So, 7 brands are missing, including Skoda, Seat, etc."
   ]
  },
  {
   "cell_type": "code",
   "execution_count": 45,
   "metadata": {},
   "outputs": [
    {
     "data": {
      "text/plain": [
       "(167313, 7)"
      ]
     },
     "execution_count": 45,
     "metadata": {},
     "output_type": "execute_result"
    }
   ],
   "source": [
    "df_concat = pd.DataFrame()\n",
    "dataframes_from_csv = []\n",
    "\n",
    "for csv_filename in filenames:\n",
    "    df_temp = pd.read_csv(files_path + csv_filename, lineterminator=\"\\n\")\n",
    "    dataframes_from_csv.append(df_temp)\n",
    "\n",
    "df_concat = pd.concat(dataframes_from_csv, ignore_index=True)\n",
    "df_concat.shape"
   ]
  },
  {
   "cell_type": "markdown",
   "metadata": {},
   "source": [
    "#### Save reviews in their original form before preprocessing"
   ]
  },
  {
   "cell_type": "code",
   "execution_count": 46,
   "metadata": {},
   "outputs": [],
   "source": [
    "df_concat.to_csv(\"../data/edmunds_reviews.csv\")"
   ]
  },
  {
   "cell_type": "markdown",
   "metadata": {},
   "source": [
    "## Preprocessing reviews\n",
    "1. remove contractions\n",
    "2. remove punctuation\n",
    "3. remove stopwords and lemmatize words"
   ]
  },
  {
   "cell_type": "code",
   "execution_count": 14,
   "metadata": {},
   "outputs": [
    {
     "name": "stderr",
     "output_type": "stream",
     "text": [
      "[nltk_data] Downloading package stopwords to\n",
      "[nltk_data]     /home/alexandru/nltk_data...\n",
      "[nltk_data]   Package stopwords is already up-to-date!\n",
      "[nltk_data] Downloading package wordnet to\n",
      "[nltk_data]     /home/alexandru/nltk_data...\n",
      "[nltk_data]   Package wordnet is already up-to-date!\n"
     ]
    }
   ],
   "source": [
    "import nltk\n",
    "from nltk.corpus import stopwords\n",
    "from nltk.stem import WordNetLemmatizer\n",
    "from collections import Counter\n",
    "import contractions\n",
    "\n",
    "\n",
    "lemmatizer = WordNetLemmatizer()\n",
    "nltk.download('stopwords')\n",
    "nltk.download('wordnet')\n",
    "\n",
    "stop_words = stopwords.words(\"english\")\n",
    "stopwords_dict = Counter(stop_words)"
   ]
  },
  {
   "cell_type": "code",
   "execution_count": 17,
   "metadata": {},
   "outputs": [
    {
     "data": {
      "text/html": [
       "<div>\n",
       "<style scoped>\n",
       "    .dataframe tbody tr th:only-of-type {\n",
       "        vertical-align: middle;\n",
       "    }\n",
       "\n",
       "    .dataframe tbody tr th {\n",
       "        vertical-align: top;\n",
       "    }\n",
       "\n",
       "    .dataframe thead th {\n",
       "        text-align: right;\n",
       "    }\n",
       "</style>\n",
       "<table border=\"1\" class=\"dataframe\">\n",
       "  <thead>\n",
       "    <tr style=\"text-align: right;\">\n",
       "      <th></th>\n",
       "      <th>Vehicle_Title</th>\n",
       "      <th>Review_Title</th>\n",
       "      <th>Review</th>\n",
       "      <th>Rating</th>\n",
       "    </tr>\n",
       "  </thead>\n",
       "  <tbody>\n",
       "    <tr>\n",
       "      <th>0</th>\n",
       "      <td>2007 Volkswagen New Beetle Convertible 2.5 2dr...</td>\n",
       "      <td>New Beetle- Holds up well &amp; Fun to Drive, but ...</td>\n",
       "      <td>i've beetle convertible 4.5 year andhave overa...</td>\n",
       "      <td>4.500</td>\n",
       "    </tr>\n",
       "    <tr>\n",
       "      <th>1</th>\n",
       "      <td>2007 Volkswagen New Beetle Convertible 2.5 PZE...</td>\n",
       "      <td>Quality Review</td>\n",
       "      <td>we bought car new 2007 generally satisfied. me...</td>\n",
       "      <td>4.375</td>\n",
       "    </tr>\n",
       "  </tbody>\n",
       "</table>\n",
       "</div>"
      ],
      "text/plain": [
       "                                       Vehicle_Title  \\\n",
       "0  2007 Volkswagen New Beetle Convertible 2.5 2dr...   \n",
       "1  2007 Volkswagen New Beetle Convertible 2.5 PZE...   \n",
       "\n",
       "                                        Review_Title  \\\n",
       "0  New Beetle- Holds up well & Fun to Drive, but ...   \n",
       "1                                     Quality Review   \n",
       "\n",
       "                                              Review  Rating  \n",
       "0  i've beetle convertible 4.5 year andhave overa...   4.500  \n",
       "1  we bought car new 2007 generally satisfied. me...   4.375  "
      ]
     },
     "execution_count": 17,
     "metadata": {},
     "output_type": "execute_result"
    }
   ],
   "source": [
    "# read data\n",
    "df = pd.read_csv(\"../data/edmunds_preprocessed_reviews.csv\")\n",
    "\n",
    "# drop unnecessary columns\n",
    "df.drop(\"Review_Date\", axis=1, inplace=True)\n",
    "df.drop(\"Unnamed: 0\", axis=1, inplace=True)\n",
    "df.drop(\"Author_Name\", axis=1, inplace=True)\n",
    "\n",
    "df.head(2)"
   ]
  },
  {
   "cell_type": "markdown",
   "metadata": {},
   "source": [
    "### Remove punctuation and contractions (contractions first)"
   ]
  },
  {
   "cell_type": "code",
   "execution_count": 18,
   "metadata": {},
   "outputs": [],
   "source": [
    "def remove_punction_and_contractions(text):\n",
    "    return re.sub(r'[^\\w\\s]', '', contractions.fix(str(text)))"
   ]
  },
  {
   "cell_type": "code",
   "execution_count": 20,
   "metadata": {},
   "outputs": [
    {
     "data": {
      "text/html": [
       "<div>\n",
       "<style scoped>\n",
       "    .dataframe tbody tr th:only-of-type {\n",
       "        vertical-align: middle;\n",
       "    }\n",
       "\n",
       "    .dataframe tbody tr th {\n",
       "        vertical-align: top;\n",
       "    }\n",
       "\n",
       "    .dataframe thead th {\n",
       "        text-align: right;\n",
       "    }\n",
       "</style>\n",
       "<table border=\"1\" class=\"dataframe\">\n",
       "  <thead>\n",
       "    <tr style=\"text-align: right;\">\n",
       "      <th></th>\n",
       "      <th>Vehicle_Title</th>\n",
       "      <th>Review_Title</th>\n",
       "      <th>Review</th>\n",
       "      <th>Rating</th>\n",
       "    </tr>\n",
       "  </thead>\n",
       "  <tbody>\n",
       "    <tr>\n",
       "      <th>0</th>\n",
       "      <td>2007 Volkswagen New Beetle Convertible 2.5 2dr...</td>\n",
       "      <td>New Beetle- Holds up well &amp; Fun to Drive, but ...</td>\n",
       "      <td>i have beetle convertible 45 year andhave over...</td>\n",
       "      <td>4.500</td>\n",
       "    </tr>\n",
       "    <tr>\n",
       "      <th>1</th>\n",
       "      <td>2007 Volkswagen New Beetle Convertible 2.5 PZE...</td>\n",
       "      <td>Quality Review</td>\n",
       "      <td>we bought car new 2007 generally satisfied mec...</td>\n",
       "      <td>4.375</td>\n",
       "    </tr>\n",
       "  </tbody>\n",
       "</table>\n",
       "</div>"
      ],
      "text/plain": [
       "                                       Vehicle_Title  \\\n",
       "0  2007 Volkswagen New Beetle Convertible 2.5 2dr...   \n",
       "1  2007 Volkswagen New Beetle Convertible 2.5 PZE...   \n",
       "\n",
       "                                        Review_Title  \\\n",
       "0  New Beetle- Holds up well & Fun to Drive, but ...   \n",
       "1                                     Quality Review   \n",
       "\n",
       "                                              Review  Rating  \n",
       "0  i have beetle convertible 45 year andhave over...   4.500  \n",
       "1  we bought car new 2007 generally satisfied mec...   4.375  "
      ]
     },
     "execution_count": 20,
     "metadata": {},
     "output_type": "execute_result"
    }
   ],
   "source": [
    "df[\"Review\"] = df[\"Review\"].apply(remove_punction_and_contractions)\n",
    "df.head(2)"
   ]
  },
  {
   "cell_type": "markdown",
   "metadata": {},
   "source": [
    "### Remove stopwords and lemmatize"
   ]
  },
  {
   "cell_type": "code",
   "execution_count": 21,
   "metadata": {},
   "outputs": [],
   "source": [
    "def remove_stopwords_and_lemmatize(text):\n",
    "    text = ' '.join(\n",
    "        [\n",
    "            lemmatizer.lemmatize(word.lower())\n",
    "            for word in text.split()\n",
    "            if word.lower() not in stopwords_dict\n",
    "        ]\n",
    "    )\n",
    "    return text"
   ]
  },
  {
   "cell_type": "code",
   "execution_count": 22,
   "metadata": {},
   "outputs": [
    {
     "data": {
      "text/html": [
       "<div>\n",
       "<style scoped>\n",
       "    .dataframe tbody tr th:only-of-type {\n",
       "        vertical-align: middle;\n",
       "    }\n",
       "\n",
       "    .dataframe tbody tr th {\n",
       "        vertical-align: top;\n",
       "    }\n",
       "\n",
       "    .dataframe thead th {\n",
       "        text-align: right;\n",
       "    }\n",
       "</style>\n",
       "<table border=\"1\" class=\"dataframe\">\n",
       "  <thead>\n",
       "    <tr style=\"text-align: right;\">\n",
       "      <th></th>\n",
       "      <th>Vehicle_Title</th>\n",
       "      <th>Review_Title</th>\n",
       "      <th>Review</th>\n",
       "      <th>Rating</th>\n",
       "    </tr>\n",
       "  </thead>\n",
       "  <tbody>\n",
       "    <tr>\n",
       "      <th>0</th>\n",
       "      <td>2007 Volkswagen New Beetle Convertible 2.5 2dr...</td>\n",
       "      <td>New Beetle- Holds up well &amp; Fun to Drive, but ...</td>\n",
       "      <td>beetle convertible 45 year andhave overall hap...</td>\n",
       "      <td>4.500</td>\n",
       "    </tr>\n",
       "    <tr>\n",
       "      <th>1</th>\n",
       "      <td>2007 Volkswagen New Beetle Convertible 2.5 PZE...</td>\n",
       "      <td>Quality Review</td>\n",
       "      <td>bought car new 2007 generally satisfied mechan...</td>\n",
       "      <td>4.375</td>\n",
       "    </tr>\n",
       "  </tbody>\n",
       "</table>\n",
       "</div>"
      ],
      "text/plain": [
       "                                       Vehicle_Title  \\\n",
       "0  2007 Volkswagen New Beetle Convertible 2.5 2dr...   \n",
       "1  2007 Volkswagen New Beetle Convertible 2.5 PZE...   \n",
       "\n",
       "                                        Review_Title  \\\n",
       "0  New Beetle- Holds up well & Fun to Drive, but ...   \n",
       "1                                     Quality Review   \n",
       "\n",
       "                                              Review  Rating  \n",
       "0  beetle convertible 45 year andhave overall hap...   4.500  \n",
       "1  bought car new 2007 generally satisfied mechan...   4.375  "
      ]
     },
     "execution_count": 22,
     "metadata": {},
     "output_type": "execute_result"
    }
   ],
   "source": [
    "df[\"Review\"] = df[\"Review\"].apply(remove_stopwords_and_lemmatize)\n",
    "df.head(2)"
   ]
  },
  {
   "cell_type": "markdown",
   "metadata": {},
   "source": [
    "### Round ratings to the nearest `.5` value"
   ]
  },
  {
   "cell_type": "code",
   "execution_count": 23,
   "metadata": {},
   "outputs": [
    {
     "data": {
      "text/html": [
       "<div>\n",
       "<style scoped>\n",
       "    .dataframe tbody tr th:only-of-type {\n",
       "        vertical-align: middle;\n",
       "    }\n",
       "\n",
       "    .dataframe tbody tr th {\n",
       "        vertical-align: top;\n",
       "    }\n",
       "\n",
       "    .dataframe thead th {\n",
       "        text-align: right;\n",
       "    }\n",
       "</style>\n",
       "<table border=\"1\" class=\"dataframe\">\n",
       "  <thead>\n",
       "    <tr style=\"text-align: right;\">\n",
       "      <th></th>\n",
       "      <th>Vehicle_Title</th>\n",
       "      <th>Review_Title</th>\n",
       "      <th>Review</th>\n",
       "      <th>Rating</th>\n",
       "    </tr>\n",
       "  </thead>\n",
       "  <tbody>\n",
       "    <tr>\n",
       "      <th>0</th>\n",
       "      <td>2007 Volkswagen New Beetle Convertible 2.5 2dr...</td>\n",
       "      <td>New Beetle- Holds up well &amp; Fun to Drive, but ...</td>\n",
       "      <td>beetle convertible 45 year andhave overall hap...</td>\n",
       "      <td>4.5</td>\n",
       "    </tr>\n",
       "    <tr>\n",
       "      <th>1</th>\n",
       "      <td>2007 Volkswagen New Beetle Convertible 2.5 PZE...</td>\n",
       "      <td>Quality Review</td>\n",
       "      <td>bought car new 2007 generally satisfied mechan...</td>\n",
       "      <td>4.5</td>\n",
       "    </tr>\n",
       "  </tbody>\n",
       "</table>\n",
       "</div>"
      ],
      "text/plain": [
       "                                       Vehicle_Title  \\\n",
       "0  2007 Volkswagen New Beetle Convertible 2.5 2dr...   \n",
       "1  2007 Volkswagen New Beetle Convertible 2.5 PZE...   \n",
       "\n",
       "                                        Review_Title  \\\n",
       "0  New Beetle- Holds up well & Fun to Drive, but ...   \n",
       "1                                     Quality Review   \n",
       "\n",
       "                                              Review  Rating  \n",
       "0  beetle convertible 45 year andhave overall hap...     4.5  \n",
       "1  bought car new 2007 generally satisfied mechan...     4.5  "
      ]
     },
     "execution_count": 23,
     "metadata": {},
     "output_type": "execute_result"
    }
   ],
   "source": [
    "df[\"Rating\"] = df[\"Rating\"].apply(lambda x: round(x * 2) / 2)\n",
    "df.head(2)"
   ]
  },
  {
   "cell_type": "markdown",
   "metadata": {},
   "source": [
    "### Drop rows containing `NaN` values"
   ]
  },
  {
   "cell_type": "code",
   "execution_count": 25,
   "metadata": {},
   "outputs": [
    {
     "name": "stdout",
     "output_type": "stream",
     "text": [
      "<class 'pandas.core.frame.DataFrame'>\n",
      "RangeIndex: 167313 entries, 0 to 167312\n",
      "Data columns (total 4 columns):\n",
      " #   Column         Non-Null Count   Dtype  \n",
      "---  ------         --------------   -----  \n",
      " 0   Vehicle_Title  167313 non-null  object \n",
      " 1   Review_Title   167294 non-null  object \n",
      " 2   Review         167313 non-null  object \n",
      " 3   Rating         167313 non-null  float64\n",
      "dtypes: float64(1), object(3)\n",
      "memory usage: 5.1+ MB\n"
     ]
    }
   ],
   "source": [
    "df.info()"
   ]
  },
  {
   "cell_type": "code",
   "execution_count": 26,
   "metadata": {},
   "outputs": [
    {
     "data": {
      "text/plain": [
       "Vehicle_Title     0\n",
       "Review_Title     19\n",
       "Review            0\n",
       "Rating            0\n",
       "dtype: int64"
      ]
     },
     "execution_count": 26,
     "metadata": {},
     "output_type": "execute_result"
    }
   ],
   "source": [
    "df.isna().sum()"
   ]
  },
  {
   "cell_type": "code",
   "execution_count": 27,
   "metadata": {},
   "outputs": [],
   "source": [
    "df.dropna(inplace=True)"
   ]
  },
  {
   "cell_type": "markdown",
   "metadata": {},
   "source": [
    "### Save to `.csv`"
   ]
  },
  {
   "cell_type": "code",
   "execution_count": 30,
   "metadata": {},
   "outputs": [],
   "source": [
    "df.to_csv(\"../data/final_car_reviews.csv\", index=False)"
   ]
  }
 ],
 "metadata": {
  "kernelspec": {
   "display_name": "Python 3",
   "language": "python",
   "name": "python3"
  },
  "language_info": {
   "codemirror_mode": {
    "name": "ipython",
    "version": 3
   },
   "file_extension": ".py",
   "mimetype": "text/x-python",
   "name": "python",
   "nbconvert_exporter": "python",
   "pygments_lexer": "ipython3",
   "version": "3.10.9"
  }
 },
 "nbformat": 4,
 "nbformat_minor": 2
}
