{
 "cells": [
  {
   "cell_type": "code",
   "execution_count": 1,
   "metadata": {},
   "outputs": [],
   "source": [
    "import pandas as pd\n",
    "import matplotlib.pyplot as plt\n",
    "import os\n",
    "import re\n",
    "import contractions"
   ]
  },
  {
   "cell_type": "markdown",
   "metadata": {},
   "source": [
    "## Get the reviews from all the existing car brands"
   ]
  },
  {
   "cell_type": "markdown",
   "metadata": {},
   "source": [
    "We should keep only the files (from edmunds.com) corresponding to the unique car brands from the autovit dataset."
   ]
  },
  {
   "cell_type": "code",
   "execution_count": 6,
   "metadata": {},
   "outputs": [
    {
     "name": "stdout",
     "output_type": "stream",
     "text": [
      "['ford', 'audi', 'toyota', 'skoda', 'bmw', 'chevrolet', 'dacia', 'mitsubishi', 'jaguar', 'mercedesbenz', 'kia', 'volkswagen', 'seat', 'honda', 'citroën', 'hyundai', 'suzuki', 'opel', 'renault', 'volvo', 'mini', 'porsche', 'peugeot', 'nissan', 'mazda', 'landrover', 'fiat', 'alfaromeo', 'jeep', 'lamborghini', 'bentley', 'lexus']\n",
      "32\n"
     ]
    }
   ],
   "source": [
    "# get unique brands from the autovit dataset\n",
    "df = pd.read_csv(\"../data/autovit_data.csv\")\n",
    "unique_brands = [\n",
    "    brand.lower().replace(\"-\", \"\").replace(\" \", \"\")\n",
    "    for brand in df[\"make\"].unique()\n",
    "]\n",
    "\n",
    "print(unique_brands)\n",
    "print(len(unique_brands))"
   ]
  },
  {
   "cell_type": "code",
   "execution_count": null,
   "metadata": {},
   "outputs": [],
   "source": [
    "files_path = \"../data/archive/\"\n",
    "brands_dict = {}\n",
    "pattern = r'_(.*?)\\.csv'\n",
    "regex = re.compile(pattern)\n",
    "\n",
    "for csv_file in os.listdir(files_path):\n",
    "    brand = csv_file.rsplit('_', 1)[-1].split('.')[0].lower()\n",
    "    brand = brand.replace(\"-\", \"\").replace(\" \", \"\")\n",
    "    brands_dict[brand] = csv_file \n",
    "\n",
    "print(len(brands_dict))\n",
    "print(brands_dict)"
   ]
  },
  {
   "cell_type": "markdown",
   "metadata": {},
   "source": [
    "In total, there are 50 car brands, and in the end, there should be 32, once correlated with the brands from the Autovit dataset."
   ]
  },
  {
   "cell_type": "code",
   "execution_count": 43,
   "metadata": {},
   "outputs": [
    {
     "data": {
      "text/plain": [
       "25"
      ]
     },
     "execution_count": 43,
     "metadata": {},
     "output_type": "execute_result"
    }
   ],
   "source": [
    "# get file names\n",
    "filenames = [\n",
    "    filename\n",
    "    for brand, filename in brands_dict.items()\n",
    "    if brand in unique_brands\n",
    "]\n",
    "\n",
    "len(filenames)"
   ]
  },
  {
   "cell_type": "markdown",
   "metadata": {},
   "source": [
    "It seems that in the end there are 25 car brands. So, 7 brands are missing, including Skoda, Seat, etc."
   ]
  },
  {
   "cell_type": "code",
   "execution_count": 45,
   "metadata": {},
   "outputs": [
    {
     "data": {
      "text/plain": [
       "(167313, 7)"
      ]
     },
     "execution_count": 45,
     "metadata": {},
     "output_type": "execute_result"
    }
   ],
   "source": [
    "df_concat = pd.DataFrame()\n",
    "dataframes_from_csv = []\n",
    "\n",
    "for csv_filename in filenames:\n",
    "    df_temp = pd.read_csv(files_path + csv_filename, lineterminator=\"\\n\")\n",
    "    dataframes_from_csv.append(df_temp)\n",
    "\n",
    "df_concat = pd.concat(dataframes_from_csv, ignore_index=True)\n",
    "df_concat.shape"
   ]
  },
  {
   "cell_type": "markdown",
   "metadata": {},
   "source": [
    "#### Save reviews in their original form before preprocessing"
   ]
  },
  {
   "cell_type": "code",
   "execution_count": 46,
   "metadata": {},
   "outputs": [],
   "source": [
    "df_concat.to_csv(\"../data/edmunds_reviews.csv\")"
   ]
  },
  {
   "cell_type": "markdown",
   "metadata": {},
   "source": [
    "### Preprocessing\n",
    "* remove punctuation\n",
    "* remove stopwords\n",
    "* lemmatize words"
   ]
  },
  {
   "cell_type": "code",
   "execution_count": 5,
   "metadata": {},
   "outputs": [],
   "source": [
    "df = pd.read_csv(\"../data/edmunds_reviews.csv\", lineterminator=\"\\n\")"
   ]
  },
  {
   "cell_type": "code",
   "execution_count": 7,
   "metadata": {},
   "outputs": [
    {
     "data": {
      "text/html": [
       "<div>\n",
       "<style scoped>\n",
       "    .dataframe tbody tr th:only-of-type {\n",
       "        vertical-align: middle;\n",
       "    }\n",
       "\n",
       "    .dataframe tbody tr th {\n",
       "        vertical-align: top;\n",
       "    }\n",
       "\n",
       "    .dataframe thead th {\n",
       "        text-align: right;\n",
       "    }\n",
       "</style>\n",
       "<table border=\"1\" class=\"dataframe\">\n",
       "  <thead>\n",
       "    <tr style=\"text-align: right;\">\n",
       "      <th></th>\n",
       "      <th>Review_Date</th>\n",
       "      <th>Author_Name</th>\n",
       "      <th>Vehicle_Title</th>\n",
       "      <th>Review_Title</th>\n",
       "      <th>Review</th>\n",
       "      <th>Rating\\r</th>\n",
       "    </tr>\n",
       "  </thead>\n",
       "  <tbody>\n",
       "    <tr>\n",
       "      <th>0</th>\n",
       "      <td>on 09/18/11 00:19 AM (PDT)</td>\n",
       "      <td>wizbang_fl</td>\n",
       "      <td>2007 Volkswagen New Beetle Convertible 2.5 2dr...</td>\n",
       "      <td>New Beetle- Holds up well &amp; Fun to Drive, but ...</td>\n",
       "      <td>I've had my Beetle Convertible for over 4.5 y...</td>\n",
       "      <td>4.500</td>\n",
       "    </tr>\n",
       "    <tr>\n",
       "      <th>1</th>\n",
       "      <td>on 07/07/10 05:28 AM (PDT)</td>\n",
       "      <td>carlo frazzano</td>\n",
       "      <td>2007 Volkswagen New Beetle Convertible 2.5 PZE...</td>\n",
       "      <td>Quality Review</td>\n",
       "      <td>We bought the car new in 2007 and are general...</td>\n",
       "      <td>4.375</td>\n",
       "    </tr>\n",
       "  </tbody>\n",
       "</table>\n",
       "</div>"
      ],
      "text/plain": [
       "                   Review_Date      Author_Name  \\\n",
       "0   on 09/18/11 00:19 AM (PDT)      wizbang_fl    \n",
       "1   on 07/07/10 05:28 AM (PDT)  carlo frazzano    \n",
       "\n",
       "                                       Vehicle_Title  \\\n",
       "0  2007 Volkswagen New Beetle Convertible 2.5 2dr...   \n",
       "1  2007 Volkswagen New Beetle Convertible 2.5 PZE...   \n",
       "\n",
       "                                        Review_Title  \\\n",
       "0  New Beetle- Holds up well & Fun to Drive, but ...   \n",
       "1                                     Quality Review   \n",
       "\n",
       "                                              Review  Rating\\r  \n",
       "0   I've had my Beetle Convertible for over 4.5 y...     4.500  \n",
       "1   We bought the car new in 2007 and are general...     4.375  "
      ]
     },
     "execution_count": 7,
     "metadata": {},
     "output_type": "execute_result"
    }
   ],
   "source": [
    "df.drop(\"Unnamed: 0\", axis=1, inplace=True)\n",
    "# df.drop(\"Unnamed: 0.1\", axis=1, inplace=True)\n",
    "df.head(2)"
   ]
  },
  {
   "cell_type": "code",
   "execution_count": 1,
   "metadata": {},
   "outputs": [
    {
     "name": "stderr",
     "output_type": "stream",
     "text": [
      "[nltk_data] Downloading package stopwords to\n",
      "[nltk_data]     /Users/alex9popa/nltk_data...\n",
      "[nltk_data]   Package stopwords is already up-to-date!\n",
      "[nltk_data] Downloading package wordnet to\n",
      "[nltk_data]     /Users/alex9popa/nltk_data...\n",
      "[nltk_data]   Package wordnet is already up-to-date!\n"
     ]
    }
   ],
   "source": [
    "import nltk\n",
    "from nltk.corpus import stopwords\n",
    "from nltk.stem import WordNetLemmatizer\n",
    "from collections import Counter\n",
    "\n",
    "\n",
    "lemmatizer = WordNetLemmatizer()\n",
    "nltk.download('stopwords')\n",
    "nltk.download('wordnet')\n",
    "\n",
    "stop_words = stopwords.words(\"english\")\n",
    "stopwords_dict = Counter(stop_words)"
   ]
  },
  {
   "cell_type": "code",
   "execution_count": 2,
   "metadata": {},
   "outputs": [],
   "source": [
    "def preprocess_text(text):\n",
    "    text = ' '.join(\n",
    "        [\n",
    "            lemmatizer.lemmatize(word.lower())\n",
    "            for word in text.split()\n",
    "            if word not in stopwords_dict\n",
    "        ]\n",
    "    )\n",
    "    return text"
   ]
  },
  {
   "cell_type": "code",
   "execution_count": 33,
   "metadata": {},
   "outputs": [
    {
     "name": "stdout",
     "output_type": "stream",
     "text": [
      " I've had my Beetle Convertible for over 4.5 years andhave been overall happy with the car. It is a compact convertible.Don't expect a big trunk or having tall people in the back seat.\n",
      "\n",
      "i've beetle convertible 4.5 year andhave overall happy car. it compact convertible.don't expect big trunk tall people back seat.\n"
     ]
    }
   ],
   "source": [
    "example = df[\"Review\"][0]\n",
    "print(example + \"\\n\")\n",
    "print(preprocess_text(example))"
   ]
  },
  {
   "cell_type": "code",
   "execution_count": 10,
   "metadata": {},
   "outputs": [],
   "source": [
    "df[\"Review\"] = df[\"Review\"].apply(preprocess_text)"
   ]
  },
  {
   "cell_type": "code",
   "execution_count": 11,
   "metadata": {},
   "outputs": [
    {
     "data": {
      "text/html": [
       "<div>\n",
       "<style scoped>\n",
       "    .dataframe tbody tr th:only-of-type {\n",
       "        vertical-align: middle;\n",
       "    }\n",
       "\n",
       "    .dataframe tbody tr th {\n",
       "        vertical-align: top;\n",
       "    }\n",
       "\n",
       "    .dataframe thead th {\n",
       "        text-align: right;\n",
       "    }\n",
       "</style>\n",
       "<table border=\"1\" class=\"dataframe\">\n",
       "  <thead>\n",
       "    <tr style=\"text-align: right;\">\n",
       "      <th></th>\n",
       "      <th>Review_Date</th>\n",
       "      <th>Author_Name</th>\n",
       "      <th>Vehicle_Title</th>\n",
       "      <th>Review_Title</th>\n",
       "      <th>Review</th>\n",
       "      <th>Rating\\r</th>\n",
       "    </tr>\n",
       "  </thead>\n",
       "  <tbody>\n",
       "    <tr>\n",
       "      <th>0</th>\n",
       "      <td>on 09/18/11 00:19 AM (PDT)</td>\n",
       "      <td>wizbang_fl</td>\n",
       "      <td>2007 Volkswagen New Beetle Convertible 2.5 2dr...</td>\n",
       "      <td>New Beetle- Holds up well &amp; Fun to Drive, but ...</td>\n",
       "      <td>i've beetle convertible 4.5 year andhave overa...</td>\n",
       "      <td>4.500</td>\n",
       "    </tr>\n",
       "    <tr>\n",
       "      <th>1</th>\n",
       "      <td>on 07/07/10 05:28 AM (PDT)</td>\n",
       "      <td>carlo frazzano</td>\n",
       "      <td>2007 Volkswagen New Beetle Convertible 2.5 PZE...</td>\n",
       "      <td>Quality Review</td>\n",
       "      <td>we bought car new 2007 generally satisfied. me...</td>\n",
       "      <td>4.375</td>\n",
       "    </tr>\n",
       "  </tbody>\n",
       "</table>\n",
       "</div>"
      ],
      "text/plain": [
       "                   Review_Date      Author_Name  \\\n",
       "0   on 09/18/11 00:19 AM (PDT)      wizbang_fl    \n",
       "1   on 07/07/10 05:28 AM (PDT)  carlo frazzano    \n",
       "\n",
       "                                       Vehicle_Title  \\\n",
       "0  2007 Volkswagen New Beetle Convertible 2.5 2dr...   \n",
       "1  2007 Volkswagen New Beetle Convertible 2.5 PZE...   \n",
       "\n",
       "                                        Review_Title  \\\n",
       "0  New Beetle- Holds up well & Fun to Drive, but ...   \n",
       "1                                     Quality Review   \n",
       "\n",
       "                                              Review  Rating\\r  \n",
       "0  i've beetle convertible 4.5 year andhave overa...     4.500  \n",
       "1  we bought car new 2007 generally satisfied. me...     4.375  "
      ]
     },
     "execution_count": 11,
     "metadata": {},
     "output_type": "execute_result"
    }
   ],
   "source": [
    "df.head(2)"
   ]
  },
  {
   "cell_type": "markdown",
   "metadata": {},
   "source": [
    "#### Save the preprocessed (lemmatize + stopwords) dataframe to csv. "
   ]
  },
  {
   "cell_type": "code",
   "execution_count": 12,
   "metadata": {},
   "outputs": [],
   "source": [
    "df.to_csv(\"../data/edmunds_preprocessed_reviews.csv\")"
   ]
  },
  {
   "cell_type": "markdown",
   "metadata": {},
   "source": [
    "### Remove punctuation after applying contractions:"
   ]
  },
  {
   "cell_type": "code",
   "execution_count": 2,
   "metadata": {},
   "outputs": [],
   "source": [
    "def remove_punction_and_contractions(text):\n",
    "    return re.sub(r'[^\\w\\s]', '', contractions.fix(str(text)))"
   ]
  },
  {
   "cell_type": "code",
   "execution_count": 3,
   "metadata": {},
   "outputs": [
    {
     "data": {
      "text/html": [
       "<div>\n",
       "<style scoped>\n",
       "    .dataframe tbody tr th:only-of-type {\n",
       "        vertical-align: middle;\n",
       "    }\n",
       "\n",
       "    .dataframe tbody tr th {\n",
       "        vertical-align: top;\n",
       "    }\n",
       "\n",
       "    .dataframe thead th {\n",
       "        text-align: right;\n",
       "    }\n",
       "</style>\n",
       "<table border=\"1\" class=\"dataframe\">\n",
       "  <thead>\n",
       "    <tr style=\"text-align: right;\">\n",
       "      <th></th>\n",
       "      <th>Vehicle_Title</th>\n",
       "      <th>Review_Title</th>\n",
       "      <th>Review</th>\n",
       "      <th>Rating</th>\n",
       "    </tr>\n",
       "  </thead>\n",
       "  <tbody>\n",
       "    <tr>\n",
       "      <th>0</th>\n",
       "      <td>2007 Volkswagen New Beetle Convertible 2.5 2dr...</td>\n",
       "      <td>New Beetle- Holds up well &amp; Fun to Drive, but ...</td>\n",
       "      <td>i have beetle convertible 45 year andhave over...</td>\n",
       "      <td>4.5</td>\n",
       "    </tr>\n",
       "    <tr>\n",
       "      <th>1</th>\n",
       "      <td>2007 Volkswagen New Beetle Convertible 2.5 PZE...</td>\n",
       "      <td>Quality Review</td>\n",
       "      <td>we bought car new 2007 generally satisfied mec...</td>\n",
       "      <td>4.5</td>\n",
       "    </tr>\n",
       "  </tbody>\n",
       "</table>\n",
       "</div>"
      ],
      "text/plain": [
       "                                       Vehicle_Title  \\\n",
       "0  2007 Volkswagen New Beetle Convertible 2.5 2dr...   \n",
       "1  2007 Volkswagen New Beetle Convertible 2.5 PZE...   \n",
       "\n",
       "                                        Review_Title  \\\n",
       "0  New Beetle- Holds up well & Fun to Drive, but ...   \n",
       "1                                     Quality Review   \n",
       "\n",
       "                                              Review  Rating  \n",
       "0  i have beetle convertible 45 year andhave over...     4.5  \n",
       "1  we bought car new 2007 generally satisfied mec...     4.5  "
      ]
     },
     "execution_count": 3,
     "metadata": {},
     "output_type": "execute_result"
    }
   ],
   "source": [
    "# remove punctuations and word shortcuts\n",
    "df = pd.read_csv(\"../data/edmunds_preprocessed_reviews.csv\")\n",
    "df[\"Review\"] = df[\"Review\"].apply(remove_punction_and_contractions)\n",
    "\n",
    "# drop unnecessary columns\n",
    "df.drop(\"Review_Date\", axis=1, inplace=True)\n",
    "df.drop(\"Unnamed: 0\", axis=1, inplace=True)\n",
    "df.drop(\"Author_Name\", axis=1, inplace=True)\n",
    "\n",
    "# round car ratings to the nearest .5 value\n",
    "df[\"Rating\"] = df[\"Rating\"].apply(lambda x: round(x * 2) / 2)\n",
    "df.head(2)"
   ]
  },
  {
   "cell_type": "code",
   "execution_count": 6,
   "metadata": {},
   "outputs": [
    {
     "data": {
      "text/plain": [
       "Vehicle_Title     0\n",
       "Review_Title     19\n",
       "Review            0\n",
       "Rating            0\n",
       "dtype: int64"
      ]
     },
     "execution_count": 6,
     "metadata": {},
     "output_type": "execute_result"
    }
   ],
   "source": [
    "df.isna().sum()"
   ]
  },
  {
   "cell_type": "code",
   "execution_count": 7,
   "metadata": {},
   "outputs": [],
   "source": [
    "# remove remaining NaN rows\n",
    "df.dropna(subset=[\"Review_Title\"], inplace=True)"
   ]
  },
  {
   "cell_type": "code",
   "execution_count": null,
   "metadata": {},
   "outputs": [],
   "source": [
    "df.to_csv(\"../data/final_edmunds_reviews.csv\", index=False)"
   ]
  },
  {
   "cell_type": "code",
   "execution_count": null,
   "metadata": {},
   "outputs": [],
   "source": []
  }
 ],
 "metadata": {
  "kernelspec": {
   "display_name": "Python 3",
   "language": "python",
   "name": "python3"
  },
  "language_info": {
   "codemirror_mode": {
    "name": "ipython",
    "version": 3
   },
   "file_extension": ".py",
   "mimetype": "text/x-python",
   "name": "python",
   "nbconvert_exporter": "python",
   "pygments_lexer": "ipython3",
   "version": "3.9.6"
  }
 },
 "nbformat": 4,
 "nbformat_minor": 2
}
