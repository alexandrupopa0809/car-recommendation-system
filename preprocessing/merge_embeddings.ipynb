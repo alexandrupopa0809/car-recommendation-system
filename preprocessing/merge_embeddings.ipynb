{
 "cells": [
  {
   "cell_type": "code",
   "execution_count": 2,
   "metadata": {},
   "outputs": [],
   "source": [
    "import pandas as pd"
   ]
  },
  {
   "cell_type": "code",
   "execution_count": 4,
   "metadata": {},
   "outputs": [
    {
     "data": {
      "text/plain": [
       "((167294,), (167294, 4))"
      ]
     },
     "execution_count": 4,
     "metadata": {},
     "output_type": "execute_result"
    }
   ],
   "source": [
    "embeddings = pd.read_pickle(\"../data/bert_tokens.pkl\")\n",
    "df = pd.read_csv(\"../data/final_car_reviews.csv\")\n",
    "embeddings.shape, df.shape"
   ]
  },
  {
   "cell_type": "code",
   "execution_count": 6,
   "metadata": {},
   "outputs": [
    {
     "data": {
      "text/html": [
       "<div>\n",
       "<style scoped>\n",
       "    .dataframe tbody tr th:only-of-type {\n",
       "        vertical-align: middle;\n",
       "    }\n",
       "\n",
       "    .dataframe tbody tr th {\n",
       "        vertical-align: top;\n",
       "    }\n",
       "\n",
       "    .dataframe thead th {\n",
       "        text-align: right;\n",
       "    }\n",
       "</style>\n",
       "<table border=\"1\" class=\"dataframe\">\n",
       "  <thead>\n",
       "    <tr style=\"text-align: right;\">\n",
       "      <th></th>\n",
       "      <th>Vehicle_Title</th>\n",
       "      <th>Review</th>\n",
       "      <th>Rating</th>\n",
       "    </tr>\n",
       "  </thead>\n",
       "  <tbody>\n",
       "    <tr>\n",
       "      <th>0</th>\n",
       "      <td>2007 Volkswagen New Beetle Convertible 2.5 2dr...</td>\n",
       "      <td>beetle convertible 45 year andhave overall hap...</td>\n",
       "      <td>4.5</td>\n",
       "    </tr>\n",
       "    <tr>\n",
       "      <th>1</th>\n",
       "      <td>2007 Volkswagen New Beetle Convertible 2.5 PZE...</td>\n",
       "      <td>bought car new 2007 generally satisfied mechan...</td>\n",
       "      <td>4.5</td>\n",
       "    </tr>\n",
       "  </tbody>\n",
       "</table>\n",
       "</div>"
      ],
      "text/plain": [
       "                                       Vehicle_Title  \\\n",
       "0  2007 Volkswagen New Beetle Convertible 2.5 2dr...   \n",
       "1  2007 Volkswagen New Beetle Convertible 2.5 PZE...   \n",
       "\n",
       "                                              Review  Rating  \n",
       "0  beetle convertible 45 year andhave overall hap...     4.5  \n",
       "1  bought car new 2007 generally satisfied mechan...     4.5  "
      ]
     },
     "execution_count": 6,
     "metadata": {},
     "output_type": "execute_result"
    }
   ],
   "source": [
    "df.drop(columns=[\"Review_Title\"], inplace=True)\n",
    "df.head(2)"
   ]
  },
  {
   "cell_type": "code",
   "execution_count": 7,
   "metadata": {},
   "outputs": [
    {
     "data": {
      "text/html": [
       "<div>\n",
       "<style scoped>\n",
       "    .dataframe tbody tr th:only-of-type {\n",
       "        vertical-align: middle;\n",
       "    }\n",
       "\n",
       "    .dataframe tbody tr th {\n",
       "        vertical-align: top;\n",
       "    }\n",
       "\n",
       "    .dataframe thead th {\n",
       "        text-align: right;\n",
       "    }\n",
       "</style>\n",
       "<table border=\"1\" class=\"dataframe\">\n",
       "  <thead>\n",
       "    <tr style=\"text-align: right;\">\n",
       "      <th></th>\n",
       "      <th>Vehicle_Title</th>\n",
       "      <th>Review</th>\n",
       "      <th>Rating</th>\n",
       "      <th>Embeddings</th>\n",
       "    </tr>\n",
       "  </thead>\n",
       "  <tbody>\n",
       "    <tr>\n",
       "      <th>0</th>\n",
       "      <td>2007 Volkswagen New Beetle Convertible 2.5 2dr...</td>\n",
       "      <td>beetle convertible 45 year andhave overall hap...</td>\n",
       "      <td>4.5</td>\n",
       "      <td>[0.22639257, 0.36218312, 0.08677771, -0.002072...</td>\n",
       "    </tr>\n",
       "    <tr>\n",
       "      <th>1</th>\n",
       "      <td>2007 Volkswagen New Beetle Convertible 2.5 PZE...</td>\n",
       "      <td>bought car new 2007 generally satisfied mechan...</td>\n",
       "      <td>4.5</td>\n",
       "      <td>[0.12528875, 0.50444865, 0.29752502, -0.359071...</td>\n",
       "    </tr>\n",
       "  </tbody>\n",
       "</table>\n",
       "</div>"
      ],
      "text/plain": [
       "                                       Vehicle_Title  \\\n",
       "0  2007 Volkswagen New Beetle Convertible 2.5 2dr...   \n",
       "1  2007 Volkswagen New Beetle Convertible 2.5 PZE...   \n",
       "\n",
       "                                              Review  Rating  \\\n",
       "0  beetle convertible 45 year andhave overall hap...     4.5   \n",
       "1  bought car new 2007 generally satisfied mechan...     4.5   \n",
       "\n",
       "                                          Embeddings  \n",
       "0  [0.22639257, 0.36218312, 0.08677771, -0.002072...  \n",
       "1  [0.12528875, 0.50444865, 0.29752502, -0.359071...  "
      ]
     },
     "execution_count": 7,
     "metadata": {},
     "output_type": "execute_result"
    }
   ],
   "source": [
    "merged_df = pd.concat([df, embeddings.to_frame()], axis=1)\n",
    "merged_df.head(2)"
   ]
  },
  {
   "cell_type": "code",
   "execution_count": 8,
   "metadata": {},
   "outputs": [],
   "source": [
    "merged_df.to_pickle(\"../data/merged_embeddings.pkl\")"
   ]
  },
  {
   "cell_type": "code",
   "execution_count": 3,
   "metadata": {},
   "outputs": [
    {
     "data": {
      "text/html": [
       "<div>\n",
       "<style scoped>\n",
       "    .dataframe tbody tr th:only-of-type {\n",
       "        vertical-align: middle;\n",
       "    }\n",
       "\n",
       "    .dataframe tbody tr th {\n",
       "        vertical-align: top;\n",
       "    }\n",
       "\n",
       "    .dataframe thead th {\n",
       "        text-align: right;\n",
       "    }\n",
       "</style>\n",
       "<table border=\"1\" class=\"dataframe\">\n",
       "  <thead>\n",
       "    <tr style=\"text-align: right;\">\n",
       "      <th></th>\n",
       "      <th>Vehicle_Title</th>\n",
       "      <th>Review</th>\n",
       "      <th>Rating</th>\n",
       "      <th>Embeddings</th>\n",
       "    </tr>\n",
       "  </thead>\n",
       "  <tbody>\n",
       "    <tr>\n",
       "      <th>0</th>\n",
       "      <td>2007 Volkswagen New Beetle Convertible 2.5 2dr...</td>\n",
       "      <td>beetle convertible 45 year andhave overall hap...</td>\n",
       "      <td>4.5</td>\n",
       "      <td>[0.22639257, 0.36218312, 0.08677771, -0.002072...</td>\n",
       "    </tr>\n",
       "    <tr>\n",
       "      <th>1</th>\n",
       "      <td>2007 Volkswagen New Beetle Convertible 2.5 PZE...</td>\n",
       "      <td>bought car new 2007 generally satisfied mechan...</td>\n",
       "      <td>4.5</td>\n",
       "      <td>[0.12528875, 0.50444865, 0.29752502, -0.359071...</td>\n",
       "    </tr>\n",
       "  </tbody>\n",
       "</table>\n",
       "</div>"
      ],
      "text/plain": [
       "                                       Vehicle_Title  \\\n",
       "0  2007 Volkswagen New Beetle Convertible 2.5 2dr...   \n",
       "1  2007 Volkswagen New Beetle Convertible 2.5 PZE...   \n",
       "\n",
       "                                              Review  Rating  \\\n",
       "0  beetle convertible 45 year andhave overall hap...     4.5   \n",
       "1  bought car new 2007 generally satisfied mechan...     4.5   \n",
       "\n",
       "                                          Embeddings  \n",
       "0  [0.22639257, 0.36218312, 0.08677771, -0.002072...  \n",
       "1  [0.12528875, 0.50444865, 0.29752502, -0.359071...  "
      ]
     },
     "execution_count": 3,
     "metadata": {},
     "output_type": "execute_result"
    }
   ],
   "source": [
    "new_df = pd.read_pickle(\"../data/merged_embeddings.pkl\")\n",
    "new_df.head(2)"
   ]
  },
  {
   "cell_type": "code",
   "execution_count": 4,
   "metadata": {},
   "outputs": [
    {
     "data": {
      "text/plain": [
       "Index(['Vehicle_Title', 'Review', 'Rating', 'Embeddings'], dtype='object')"
      ]
     },
     "execution_count": 4,
     "metadata": {},
     "output_type": "execute_result"
    }
   ],
   "source": [
    "new_df.columns"
   ]
  },
  {
   "cell_type": "code",
   "execution_count": null,
   "metadata": {},
   "outputs": [],
   "source": []
  }
 ],
 "metadata": {
  "kernelspec": {
   "display_name": "Python 3",
   "language": "python",
   "name": "python3"
  },
  "language_info": {
   "codemirror_mode": {
    "name": "ipython",
    "version": 3
   },
   "file_extension": ".py",
   "mimetype": "text/x-python",
   "name": "python",
   "nbconvert_exporter": "python",
   "pygments_lexer": "ipython3",
   "version": "3.9.6"
  }
 },
 "nbformat": 4,
 "nbformat_minor": 2
}
